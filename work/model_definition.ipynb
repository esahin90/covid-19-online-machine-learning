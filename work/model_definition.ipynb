{
 "cells": [
  {
   "cell_type": "markdown",
   "id": "21b70b3f-26e1-4da7-ae60-dcc4f3c93d2c",
   "metadata": {},
   "source": [
    "# Online model definition and data preparation"
   ]
  },
  {
   "cell_type": "markdown",
   "id": "8b9839ce-afeb-4157-bf99-0daed7c28dd1",
   "metadata": {},
   "source": [
    "## Model definition"
   ]
  },
  {
   "cell_type": "code",
   "execution_count": null,
   "id": "7e843808-db11-4522-a3b0-1095c5462b6b",
   "metadata": {},
   "outputs": [],
   "source": [
    "from creme import compose\n",
    "from creme import linear_model\n",
    "from creme import preprocessing\n",
    "\n",
    "\n",
    "def parse(row):\n",
    "    import datetime as dt\n",
    "    row['date'] = dt.datetime.fromisoformat(row['date']).timestamp()\n",
    "    return row\n",
    "\n",
    "model = compose.FuncTransformer(parse) \\\n",
    "    | compose.Select('date', 'new_deceased', 'new_recovered',\n",
    "                     'cumulative_confirmed', 'cumulative_deceased',\n",
    "                     'cumulative_recovered') \\\n",
    "    | preprocessing.StandardScaler() \\\n",
    "    | linear_model.LinearRegression()\n"
   ]
  },
  {
   "cell_type": "markdown",
   "id": "91e374b1-c300-4c2d-b2ee-376435690500",
   "metadata": {},
   "source": [
    "### Upload model to chantilly"
   ]
  },
  {
   "cell_type": "code",
   "execution_count": null,
   "id": "a583f3d9-b2c6-4d58-b496-12c84ed27b8e",
   "metadata": {},
   "outputs": [],
   "source": [
    "import dill\n",
    "import requests\n",
    "\n",
    "requests.post('http://localhost:5000/api/model', data=dill.dumps(model))"
   ]
  },
  {
   "cell_type": "markdown",
   "id": "6a5e8f01-c77a-401e-a55c-ac4714c73f45",
   "metadata": {},
   "source": [
    "## Download data"
   ]
  },
  {
   "cell_type": "code",
   "execution_count": null,
   "id": "034341a1-b212-4173-8c65-cb0796fc116e",
   "metadata": {},
   "outputs": [],
   "source": [
    "!wget https://storage.googleapis.com/covid19-open-data/v3/epidemiology.csv"
   ]
  },
  {
   "cell_type": "code",
   "execution_count": null,
   "id": "c8b93c6d-aabf-4027-aa13-d54f09693c28",
   "metadata": {},
   "outputs": [],
   "source": [
    "!wget https://storage.googleapis.com/covid19-open-data/v3/vaccinations.csv"
   ]
  },
  {
   "cell_type": "markdown",
   "id": "460c8501-1223-4c0b-8a9e-6a8ddda1c332",
   "metadata": {},
   "source": [
    "## Data preparation"
   ]
  },
  {
   "cell_type": "code",
   "execution_count": null,
   "id": "ff47ce5e-22ac-472d-878b-a208a7b83d94",
   "metadata": {},
   "outputs": [],
   "source": [
    "import pandas as pd"
   ]
  },
  {
   "cell_type": "code",
   "execution_count": null,
   "id": "7b01eb49-16c2-490c-a7e0-1a1d8d6a31fb",
   "metadata": {},
   "outputs": [],
   "source": [
    "data = pd.read_csv('epidemiology.csv')"
   ]
  },
  {
   "cell_type": "code",
   "execution_count": null,
   "id": "a5f785f9-8b31-49c8-8d13-6aa6dac720f8",
   "metadata": {},
   "outputs": [],
   "source": [
    "data.head()"
   ]
  },
  {
   "cell_type": "markdown",
   "id": "b1a4b950-bf1a-4af4-bc50-4bcbac77a899",
   "metadata": {},
   "source": [
    "### Filter data by state DE_HB (Bremen)"
   ]
  },
  {
   "cell_type": "code",
   "execution_count": null,
   "id": "7bed6eb3-0839-4467-a552-e90d2192a0e3",
   "metadata": {},
   "outputs": [],
   "source": [
    "bremen_data = data[data.location_key.apply(lambda x: \"DE_HB\" == x if isinstance(x, str) else False)]"
   ]
  },
  {
   "cell_type": "markdown",
   "id": "819a01dd-07c1-43e9-90f1-23f2cd574e29",
   "metadata": {},
   "source": [
    "### Drop na columns with no data"
   ]
  },
  {
   "cell_type": "code",
   "execution_count": null,
   "id": "1e99ef3b-fd9a-40de-b32b-b6a655b229e6",
   "metadata": {},
   "outputs": [],
   "source": [
    "bremen_data = bremen_data.drop(columns=[\"new_tested\", \"cumulative_tested\"])"
   ]
  },
  {
   "cell_type": "markdown",
   "id": "2b27c826-585d-4ca1-9685-dc988a90af3e",
   "metadata": {},
   "source": [
    "### Bremen data insights"
   ]
  },
  {
   "cell_type": "code",
   "execution_count": null,
   "id": "8c12b355-8f95-4ac3-a388-d568e0213be2",
   "metadata": {},
   "outputs": [],
   "source": [
    "bremen_data.head()"
   ]
  },
  {
   "cell_type": "code",
   "execution_count": null,
   "id": "a4a54913-0e1d-4ee1-8d11-5f2b552e988d",
   "metadata": {},
   "outputs": [],
   "source": [
    "max(bremen_data.new_confirmed)"
   ]
  },
  {
   "cell_type": "code",
   "execution_count": null,
   "id": "9d226025-d3bb-424a-b248-a1a8c47761d7",
   "metadata": {},
   "outputs": [],
   "source": [
    "bremen_data.to_csv(\"bremen_epidemiology.csv\")"
   ]
  },
  {
   "cell_type": "markdown",
   "id": "877cb4f5-a0ea-4e07-bad8-74857f1013ed",
   "metadata": {},
   "source": [
    "## Vaccination data"
   ]
  },
  {
   "cell_type": "code",
   "execution_count": null,
   "id": "72bea369-42af-4cdc-ac0f-07a481caa4e0",
   "metadata": {},
   "outputs": [],
   "source": [
    "vacc_data = pd.read_csv('vaccinations.csv')"
   ]
  },
  {
   "cell_type": "code",
   "execution_count": null,
   "id": "b20ecd47-b3dd-4edd-8316-1ee34c86f389",
   "metadata": {},
   "outputs": [],
   "source": [
    "merged_data = pd.merge(data, vacc_data, on=['date', 'location_key'])"
   ]
  },
  {
   "cell_type": "code",
   "execution_count": null,
   "id": "df22e831-4dae-4678-907f-e67adfb32011",
   "metadata": {},
   "outputs": [],
   "source": [
    "bremen_vacc_data = merged_data[merged_data.location_key.apply(lambda x: \"DE_HB\" == x if isinstance(x, str) else False)]"
   ]
  },
  {
   "cell_type": "code",
   "execution_count": null,
   "id": "483d8c34-633a-438e-82de-f3ca615ca4bc",
   "metadata": {},
   "outputs": [],
   "source": [
    "bremen_vacc_data = bremen_vacc_data[['date', 'location_key', 'new_confirmed', 'new_deceased',\n",
    "       'new_recovered', 'cumulative_confirmed', 'cumulative_deceased',\n",
    "       'cumulative_recovered', 'new_persons_vaccinated',\n",
    "       'cumulative_persons_vaccinated', 'new_persons_fully_vaccinated',\n",
    "       'cumulative_persons_fully_vaccinated', 'new_vaccine_doses_administered',\n",
    "       'cumulative_vaccine_doses_administered']]"
   ]
  },
  {
   "cell_type": "code",
   "execution_count": null,
   "id": "a83b8bf9-e679-4d7a-8251-c0c47572cad6",
   "metadata": {},
   "outputs": [],
   "source": [
    "bremen_vacc_data"
   ]
  },
  {
   "cell_type": "code",
   "execution_count": null,
   "id": "93debe02-dc8f-45eb-baa8-f5ec9c17aa81",
   "metadata": {},
   "outputs": [],
   "source": []
  }
 ],
 "metadata": {
  "kernelspec": {
   "display_name": "Python 3 (ipykernel)",
   "language": "python",
   "name": "python3"
  },
  "language_info": {
   "codemirror_mode": {
    "name": "ipython",
    "version": 3
   },
   "file_extension": ".py",
   "mimetype": "text/x-python",
   "name": "python",
   "nbconvert_exporter": "python",
   "pygments_lexer": "ipython3",
   "version": "3.8.11"
  }
 },
 "nbformat": 4,
 "nbformat_minor": 5
}
