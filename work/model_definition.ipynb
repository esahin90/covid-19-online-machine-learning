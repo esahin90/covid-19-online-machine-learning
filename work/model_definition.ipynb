{
 "cells": [
  {
   "cell_type": "code",
   "execution_count": null,
   "id": "7e843808-db11-4522-a3b0-1095c5462b6b",
   "metadata": {},
   "outputs": [],
   "source": [
    "from creme import compose\n",
    "from creme import linear_model\n",
    "from creme import preprocessing\n",
    "\n",
    "\n",
    "def parse(row):\n",
    "    import datetime as dt\n",
    "    row['date'] = dt.datetime.fromisoformat(row['date']).timestamp()\n",
    "    return row\n",
    "\n",
    "model = compose.FuncTransformer(parse) \\\n",
    "    | compose.Select('date', 'new_deceased', 'new_recovered', 'new_tested',\n",
    "                     'cumulative_confirmed', 'cumulative_deceased',\n",
    "                     'cumulative_recovered', 'cumulative_tested') \\\n",
    "    | preprocessing.StandardScaler() \\\n",
    "    | linear_model.LinearRegression()\n"
   ]
  },
  {
   "cell_type": "code",
   "execution_count": null,
   "id": "a583f3d9-b2c6-4d58-b496-12c84ed27b8e",
   "metadata": {},
   "outputs": [],
   "source": [
    "import dill\n",
    "import requests\n",
    "\n",
    "requests.post('http://localhost:5000/api/model', data=dill.dumps(model))"
   ]
  },
  {
   "cell_type": "code",
   "execution_count": null,
   "id": "034341a1-b212-4173-8c65-cb0796fc116e",
   "metadata": {},
   "outputs": [],
   "source": [
    "!wget https://storage.googleapis.com/covid19-open-data/v3/epidemiology.csv"
   ]
  },
  {
   "cell_type": "code",
   "execution_count": null,
   "id": "ff47ce5e-22ac-472d-878b-a208a7b83d94",
   "metadata": {},
   "outputs": [],
   "source": [
    "import pandas as pd"
   ]
  },
  {
   "cell_type": "code",
   "execution_count": null,
   "id": "7b01eb49-16c2-490c-a7e0-1a1d8d6a31fb",
   "metadata": {},
   "outputs": [],
   "source": [
    "data = pd.read_csv('epidemiology.csv')"
   ]
  },
  {
   "cell_type": "code",
   "execution_count": null,
   "id": "a5f785f9-8b31-49c8-8d13-6aa6dac720f8",
   "metadata": {},
   "outputs": [],
   "source": [
    "for key in data.location_key.unique():\n",
    "    if \"DE\" in key or \"GER\" in key:\n",
    "        print(key)"
   ]
  },
  {
   "cell_type": "code",
   "execution_count": null,
   "id": "df22e831-4dae-4678-907f-e67adfb32011",
   "metadata": {},
   "outputs": [],
   "source": [
    "len(data.location_key.unique())"
   ]
  },
  {
   "cell_type": "code",
   "execution_count": null,
   "id": "a83b8bf9-e679-4d7a-8251-c0c47572cad6",
   "metadata": {},
   "outputs": [],
   "source": []
  }
 ],
 "metadata": {
  "kernelspec": {
   "display_name": "Python 3",
   "language": "python",
   "name": "python3"
  },
  "language_info": {
   "codemirror_mode": {
    "name": "ipython",
    "version": 3
   },
   "file_extension": ".py",
   "mimetype": "text/x-python",
   "name": "python",
   "nbconvert_exporter": "python",
   "pygments_lexer": "ipython3",
   "version": "3.8.11"
  }
 },
 "nbformat": 4,
 "nbformat_minor": 5
}
