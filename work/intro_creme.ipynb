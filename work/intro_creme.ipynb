{
 "cells": [
  {
   "cell_type": "code",
   "execution_count": null,
   "id": "29b2b3a1-9031-4e54-b940-9c84c0812419",
   "metadata": {},
   "outputs": [],
   "source": [
    "import pandas as pd\n",
    "import creme"
   ]
  },
  {
   "cell_type": "code",
   "execution_count": null,
   "id": "64a60826-27bf-4c5e-a969-0219170310aa",
   "metadata": {},
   "outputs": [],
   "source": [
    "def get_all_attributes(package):\n",
    "    subpackages = []\n",
    "    submodules = []\n",
    "    for module in package.__all__:\n",
    "        subpackages.append(module)\n",
    "        subs = getattr(package, module).__all__\n",
    "        submodules.append(subs)\n",
    "    df = pd.DataFrame(submodules)\n",
    "    df = df.T\n",
    "    df.columns = subpackages\n",
    "    return df"
   ]
  },
  {
   "cell_type": "code",
   "execution_count": null,
   "id": "5e132944-6ce8-42ac-a0d5-894520b42ed0",
   "metadata": {},
   "outputs": [],
   "source": [
    "with pd.option_context('display.max_rows', None, 'display.max_columns', None):\n",
    "    display(get_all_attributes(creme))"
   ]
  },
  {
   "cell_type": "code",
   "execution_count": null,
   "id": "32e3318d-13b5-463d-989b-6321139bed0d",
   "metadata": {},
   "outputs": [],
   "source": []
  }
 ],
 "metadata": {
  "kernelspec": {
   "display_name": "Python 3 (ipykernel)",
   "language": "python",
   "name": "python3"
  },
  "language_info": {
   "codemirror_mode": {
    "name": "ipython",
    "version": 3
   },
   "file_extension": ".py",
   "mimetype": "text/x-python",
   "name": "python",
   "nbconvert_exporter": "python",
   "pygments_lexer": "ipython3",
   "version": "3.8.11"
  }
 },
 "nbformat": 4,
 "nbformat_minor": 5
}
